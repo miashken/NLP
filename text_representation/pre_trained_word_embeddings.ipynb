{
 "cells": [
  {
   "cell_type": "markdown",
   "metadata": {
    "id": "ltgK4qC_Ri11"
   },
   "source": [
    "### **Pre-Trained Word2Vec:**"
   ]
  },
  {
   "cell_type": "code",
   "execution_count": null,
   "metadata": {
    "colab": {
     "base_uri": "https://localhost:8080/"
    },
    "id": "7L9zwwxIQgPC",
    "outputId": "6d984475-21ee-4850-bdda-3d54d31ea1fb"
   },
   "outputs": [
    {
     "name": "stdout",
     "output_type": "stream",
     "text": [
      "[==================================================] 100.0% 1662.8/1662.8MB downloaded\n"
     ]
    }
   ],
   "source": [
    "import gensim.downloader as api\n",
    "\n",
    "# Load the pre-trained word embeddings model:\n",
    "word2vec_model = api.load(\"word2vec-google-news-300\")"
   ]
  },
  {
   "cell_type": "code",
   "execution_count": null,
   "metadata": {
    "colab": {
     "base_uri": "https://localhost:8080/"
    },
    "id": "awAPVLP7QoBe",
    "outputId": "3c711343-81dc-475e-b5f0-c8772e7996bc"
   },
   "outputs": [
    {
     "data": {
      "text/plain": [
       "array([ 0.2890625 , -0.04931641, -0.13085938,  0.16699219, -0.15820312,\n",
       "        0.01977539,  0.11669922, -0.29101562,  0.09765625,  0.03979492,\n",
       "        0.09326172,  0.01721191, -0.03088379, -0.05639648,  0.00909424,\n",
       "        0.00753784,  0.00081635, -0.03564453,  0.01721191,  0.00933838,\n",
       "        0.23730469, -0.02880859, -0.109375  ,  0.11816406, -0.03417969,\n",
       "       -0.06689453, -0.23144531,  0.14746094,  0.22558594, -0.07763672,\n",
       "       -0.05371094, -0.07470703,  0.08789062,  0.33203125, -0.20703125,\n",
       "       -0.32617188,  0.22167969, -0.11572266, -0.2109375 , -0.08007812,\n",
       "       -0.17578125,  0.00515747,  0.11914062,  0.34375   , -0.02307129,\n",
       "        0.02661133, -0.11767578, -0.02404785,  0.34179688, -0.19140625,\n",
       "       -0.19628906,  0.41796875,  0.3125    ,  0.24902344, -0.09814453,\n",
       "        0.12597656,  0.05371094,  0.00640869,  0.07666016, -0.18945312,\n",
       "        0.02355957, -0.26171875, -0.22949219, -0.00842285, -0.02746582,\n",
       "        0.19433594, -0.40039062, -0.02001953, -0.03393555,  0.30078125,\n",
       "        0.27148438, -0.00674438, -0.32617188, -0.08886719, -0.18847656,\n",
       "       -0.00145721, -0.30273438, -0.25195312, -0.19238281, -0.32617188,\n",
       "        0.37695312,  0.07128906, -0.02197266,  0.22753906, -0.20117188,\n",
       "        0.13964844, -0.18945312, -0.01251221,  0.07373047, -0.00218201,\n",
       "        0.02355957, -0.0019989 ,  0.01928711, -0.23828125, -0.16113281,\n",
       "       -0.25585938, -0.00379944, -0.16699219,  0.1015625 , -0.18359375,\n",
       "        0.03955078, -0.22265625,  0.21972656,  0.2734375 ,  0.296875  ,\n",
       "       -0.12597656,  0.03808594, -0.3515625 ,  0.04125977, -0.06787109,\n",
       "       -0.27148438, -0.10742188,  0.07226562, -0.09960938,  0.12988281,\n",
       "       -0.10302734, -0.08300781, -0.28710938, -0.16113281, -0.04760742,\n",
       "       -0.09863281,  0.30859375, -0.12255859, -0.19628906,  0.06542969,\n",
       "        0.07617188, -0.13476562, -0.02075195,  0.06079102,  0.14453125,\n",
       "       -0.03222656, -0.26171875, -0.375     , -0.29882812, -0.109375  ,\n",
       "        0.15234375,  0.23828125, -0.19824219, -0.14453125,  0.17773438,\n",
       "        0.05395508, -0.26171875, -0.20898438,  0.05273438, -0.01782227,\n",
       "       -0.03320312, -0.05834961, -0.09179688,  0.02124023, -0.15234375,\n",
       "        0.30859375, -0.171875  ,  0.16601562,  0.26953125, -0.07324219,\n",
       "        0.08740234, -0.16601562, -0.05371094, -0.15917969, -0.05419922,\n",
       "        0.10888672,  0.09619141,  0.3671875 , -0.25      , -0.02648926,\n",
       "       -0.12060547,  0.24316406, -0.06738281, -0.33789062, -0.35742188,\n",
       "        0.10302734, -0.296875  ,  0.03857422,  0.15527344, -0.36328125,\n",
       "       -0.02001953,  0.22558594, -0.33789062, -0.25976562,  0.26757812,\n",
       "        0.046875  ,  0.00273132, -0.20410156,  0.09033203,  0.234375  ,\n",
       "       -0.09863281,  0.09814453,  0.546875  , -0.3125    , -0.20410156,\n",
       "        0.11181641, -0.00106812, -0.34960938,  0.24804688,  0.20898438,\n",
       "       -0.10546875, -0.23046875, -0.21582031,  0.10400391,  0.0324707 ,\n",
       "       -0.20507812, -0.3046875 , -0.17285156, -0.13671875,  0.16796875,\n",
       "       -0.20605469, -0.12695312, -0.00366211,  0.08007812,  0.00524902,\n",
       "        0.14550781,  0.04077148, -0.06103516, -0.21679688, -0.10351562,\n",
       "        0.04663086, -0.17773438,  0.234375  , -0.08300781, -0.16894531,\n",
       "        0.02148438, -0.09277344,  0.36523438, -0.08789062,  0.14453125,\n",
       "       -0.12353516,  0.02856445,  0.125     , -0.05688477,  0.10791016,\n",
       "       -0.09130859,  0.28320312,  0.06176758, -0.24511719, -0.24609375,\n",
       "       -0.02709961, -0.02770996,  0.07910156, -0.06298828, -0.00579834,\n",
       "        0.15332031, -0.21777344, -0.07763672, -0.04467773, -0.11669922,\n",
       "        0.06933594,  0.10644531, -0.28515625,  0.28320312, -0.41601562,\n",
       "        0.15429688,  0.01647949,  0.11474609,  0.30078125,  0.16894531,\n",
       "        0.33007812,  0.00915527,  0.09912109, -0.24511719, -0.12597656,\n",
       "        0.01611328, -0.21777344, -0.03662109, -0.02478027, -0.09912109,\n",
       "        0.30078125, -0.21777344, -0.06030273, -0.140625  ,  0.02197266,\n",
       "        0.04907227, -0.05126953,  0.01159668,  0.18261719, -0.10009766,\n",
       "       -0.11816406, -0.2265625 , -0.05981445, -0.23730469,  0.08056641,\n",
       "       -0.21386719,  0.02746582,  0.09179688, -0.17382812,  0.02099609,\n",
       "       -0.08691406, -0.21484375,  0.02502441, -0.09326172,  0.09130859,\n",
       "       -0.08203125,  0.00897217, -0.22265625, -0.21386719,  0.13769531,\n",
       "       -0.10253906,  0.15136719,  0.13964844, -0.14257812, -0.14648438],\n",
       "      dtype=float32)"
      ]
     },
     "execution_count": 4,
     "metadata": {},
     "output_type": "execute_result"
    }
   ],
   "source": [
    "# Get a word embedding for a single word:\n",
    "word2vec_model[\"scooter\"]"
   ]
  },
  {
   "cell_type": "code",
   "execution_count": null,
   "metadata": {
    "colab": {
     "base_uri": "https://localhost:8080/"
    },
    "id": "YoJC6plCRSfa",
    "outputId": "b7184d47-78b1-49cb-a7a1-05decb1bcec7"
   },
   "outputs": [
    {
     "data": {
      "text/plain": [
       "0.6381531"
      ]
     },
     "execution_count": 5,
     "metadata": {},
     "output_type": "execute_result"
    }
   ],
   "source": [
    "# Calculate similarity between 2 words, based on their embeddings:\n",
    "word2vec_model.similarity(\"scooter\", \"car\")"
   ]
  },
  {
   "cell_type": "code",
   "execution_count": null,
   "metadata": {
    "colab": {
     "base_uri": "https://localhost:8080/"
    },
    "id": "04lchhctRUID",
    "outputId": "eb5ca3d3-d566-4640-dff3-719c67cd9f8e"
   },
   "outputs": [
    {
     "data": {
      "text/plain": [
       "[('scooters', 0.7711882591247559),\n",
       " ('moped', 0.7649189233779907),\n",
       " ('bicycle', 0.750670850276947),\n",
       " ('bike', 0.7495757341384888),\n",
       " ('motor_scooter', 0.7273890972137451),\n",
       " ('motorcycle', 0.7237971425056458),\n",
       " ('electric_scooter', 0.7211951017379761),\n",
       " ('motorbike', 0.7071132063865662),\n",
       " ('bikes', 0.6927575469017029),\n",
       " ('mobility_scooter', 0.6492184996604919)]"
      ]
     },
     "execution_count": 6,
     "metadata": {},
     "output_type": "execute_result"
    }
   ],
   "source": [
    "# Get most similar words:\n",
    "word2vec_model.most_similar(\"scooter\")"
   ]
  },
  {
   "cell_type": "code",
   "execution_count": null,
   "metadata": {
    "colab": {
     "base_uri": "https://localhost:8080/",
     "height": 329
    },
    "id": "yt1nUWo9RV6h",
    "outputId": "3c6024e6-3405-4d66-e08e-68d71f85c031"
   },
   "outputs": [
    {
     "ename": "KeyError",
     "evalue": "ignored",
     "output_type": "error",
     "traceback": [
      "\u001b[0;31m---------------------------------------------------------------------------\u001b[0m",
      "\u001b[0;31mKeyError\u001b[0m                                  Traceback (most recent call last)",
      "\u001b[0;32m<ipython-input-7-ba6235b34760>\u001b[0m in \u001b[0;36m<cell line: 1>\u001b[0;34m()\u001b[0m\n\u001b[0;32m----> 1\u001b[0;31m \u001b[0mword2vec_model\u001b[0m\u001b[0;34m[\u001b[0m\u001b[0;34m\"newnonexistingword\"\u001b[0m\u001b[0;34m]\u001b[0m\u001b[0;34m\u001b[0m\u001b[0;34m\u001b[0m\u001b[0m\n\u001b[0m\u001b[1;32m      2\u001b[0m \u001b[0;31m#What if I am looking for a word that is not in this vocabulary?\u001b[0m\u001b[0;34m\u001b[0m\u001b[0;34m\u001b[0m\u001b[0m\n",
      "\u001b[0;32m/usr/local/lib/python3.10/dist-packages/gensim/models/keyedvectors.py\u001b[0m in \u001b[0;36m__getitem__\u001b[0;34m(self, key_or_keys)\u001b[0m\n\u001b[1;32m    401\u001b[0m         \"\"\"\n\u001b[1;32m    402\u001b[0m         \u001b[0;32mif\u001b[0m \u001b[0misinstance\u001b[0m\u001b[0;34m(\u001b[0m\u001b[0mkey_or_keys\u001b[0m\u001b[0;34m,\u001b[0m \u001b[0m_KEY_TYPES\u001b[0m\u001b[0;34m)\u001b[0m\u001b[0;34m:\u001b[0m\u001b[0;34m\u001b[0m\u001b[0;34m\u001b[0m\u001b[0m\n\u001b[0;32m--> 403\u001b[0;31m             \u001b[0;32mreturn\u001b[0m \u001b[0mself\u001b[0m\u001b[0;34m.\u001b[0m\u001b[0mget_vector\u001b[0m\u001b[0;34m(\u001b[0m\u001b[0mkey_or_keys\u001b[0m\u001b[0;34m)\u001b[0m\u001b[0;34m\u001b[0m\u001b[0;34m\u001b[0m\u001b[0m\n\u001b[0m\u001b[1;32m    404\u001b[0m \u001b[0;34m\u001b[0m\u001b[0m\n\u001b[1;32m    405\u001b[0m         \u001b[0;32mreturn\u001b[0m \u001b[0mvstack\u001b[0m\u001b[0;34m(\u001b[0m\u001b[0;34m[\u001b[0m\u001b[0mself\u001b[0m\u001b[0;34m.\u001b[0m\u001b[0mget_vector\u001b[0m\u001b[0;34m(\u001b[0m\u001b[0mkey\u001b[0m\u001b[0;34m)\u001b[0m \u001b[0;32mfor\u001b[0m \u001b[0mkey\u001b[0m \u001b[0;32min\u001b[0m \u001b[0mkey_or_keys\u001b[0m\u001b[0;34m]\u001b[0m\u001b[0;34m)\u001b[0m\u001b[0;34m\u001b[0m\u001b[0;34m\u001b[0m\u001b[0m\n",
      "\u001b[0;32m/usr/local/lib/python3.10/dist-packages/gensim/models/keyedvectors.py\u001b[0m in \u001b[0;36mget_vector\u001b[0;34m(self, key, norm)\u001b[0m\n\u001b[1;32m    444\u001b[0m \u001b[0;34m\u001b[0m\u001b[0m\n\u001b[1;32m    445\u001b[0m         \"\"\"\n\u001b[0;32m--> 446\u001b[0;31m         \u001b[0mindex\u001b[0m \u001b[0;34m=\u001b[0m \u001b[0mself\u001b[0m\u001b[0;34m.\u001b[0m\u001b[0mget_index\u001b[0m\u001b[0;34m(\u001b[0m\u001b[0mkey\u001b[0m\u001b[0;34m)\u001b[0m\u001b[0;34m\u001b[0m\u001b[0;34m\u001b[0m\u001b[0m\n\u001b[0m\u001b[1;32m    447\u001b[0m         \u001b[0;32mif\u001b[0m \u001b[0mnorm\u001b[0m\u001b[0;34m:\u001b[0m\u001b[0;34m\u001b[0m\u001b[0;34m\u001b[0m\u001b[0m\n\u001b[1;32m    448\u001b[0m             \u001b[0mself\u001b[0m\u001b[0;34m.\u001b[0m\u001b[0mfill_norms\u001b[0m\u001b[0;34m(\u001b[0m\u001b[0;34m)\u001b[0m\u001b[0;34m\u001b[0m\u001b[0;34m\u001b[0m\u001b[0m\n",
      "\u001b[0;32m/usr/local/lib/python3.10/dist-packages/gensim/models/keyedvectors.py\u001b[0m in \u001b[0;36mget_index\u001b[0;34m(self, key, default)\u001b[0m\n\u001b[1;32m    418\u001b[0m             \u001b[0;32mreturn\u001b[0m \u001b[0mdefault\u001b[0m\u001b[0;34m\u001b[0m\u001b[0;34m\u001b[0m\u001b[0m\n\u001b[1;32m    419\u001b[0m         \u001b[0;32melse\u001b[0m\u001b[0;34m:\u001b[0m\u001b[0;34m\u001b[0m\u001b[0;34m\u001b[0m\u001b[0m\n\u001b[0;32m--> 420\u001b[0;31m             \u001b[0;32mraise\u001b[0m \u001b[0mKeyError\u001b[0m\u001b[0;34m(\u001b[0m\u001b[0;34mf\"Key '{key}' not present\"\u001b[0m\u001b[0;34m)\u001b[0m\u001b[0;34m\u001b[0m\u001b[0;34m\u001b[0m\u001b[0m\n\u001b[0m\u001b[1;32m    421\u001b[0m \u001b[0;34m\u001b[0m\u001b[0m\n\u001b[1;32m    422\u001b[0m     \u001b[0;32mdef\u001b[0m \u001b[0mget_vector\u001b[0m\u001b[0;34m(\u001b[0m\u001b[0mself\u001b[0m\u001b[0;34m,\u001b[0m \u001b[0mkey\u001b[0m\u001b[0;34m,\u001b[0m \u001b[0mnorm\u001b[0m\u001b[0;34m=\u001b[0m\u001b[0;32mFalse\u001b[0m\u001b[0;34m)\u001b[0m\u001b[0;34m:\u001b[0m\u001b[0;34m\u001b[0m\u001b[0;34m\u001b[0m\u001b[0m\n",
      "\u001b[0;31mKeyError\u001b[0m: \"Key 'newnonexistingword' not present\""
     ]
    }
   ],
   "source": [
    "# Get word embedding for a word that is not in the vocabulary:\n",
    "word2vec_model[\"newnonexistingword\"]"
   ]
  },
  {
   "cell_type": "markdown",
   "metadata": {
    "id": "RJMzL6VBRb3w"
   },
   "source": [
    "### **Pre-Trained GloVe:**"
   ]
  },
  {
   "cell_type": "code",
   "execution_count": null,
   "metadata": {
    "id": "ia-pZGdKReGB"
   },
   "outputs": [],
   "source": [
    "import spacy\n",
    "\n",
    "# en_core_web_sm  11-12 MB\n",
    "# en_core_web_md  46 MB\n",
    "# en_core_web_lg  827 MB"
   ]
  },
  {
   "cell_type": "code",
   "execution_count": null,
   "metadata": {
    "colab": {
     "base_uri": "https://localhost:8080/"
    },
    "id": "_AEXs5WGTr2E",
    "outputId": "725d97ee-5037-40ed-c997-31d8d03a4c9d"
   },
   "outputs": [
    {
     "name": "stdout",
     "output_type": "stream",
     "text": [
      "2023-06-26 12:58:29.620725: W tensorflow/compiler/tf2tensorrt/utils/py_utils.cc:38] TF-TRT Warning: Could not find TensorRT\n",
      "Looking in indexes: https://pypi.org/simple, https://us-python.pkg.dev/colab-wheels/public/simple/\n",
      "Collecting en-core-web-md==3.5.0\n",
      "  Downloading https://github.com/explosion/spacy-models/releases/download/en_core_web_md-3.5.0/en_core_web_md-3.5.0-py3-none-any.whl (42.8 MB)\n",
      "\u001b[2K     \u001b[90m━━━━━━━━━━━━━━━━━━━━━━━━━━━━━━━━━━━━━━━━\u001b[0m \u001b[32m42.8/42.8 MB\u001b[0m \u001b[31m19.4 MB/s\u001b[0m eta \u001b[36m0:00:00\u001b[0m\n",
      "\u001b[?25hRequirement already satisfied: spacy<3.6.0,>=3.5.0 in /usr/local/lib/python3.10/dist-packages (from en-core-web-md==3.5.0) (3.5.3)\n",
      "Requirement already satisfied: spacy-legacy<3.1.0,>=3.0.11 in /usr/local/lib/python3.10/dist-packages (from spacy<3.6.0,>=3.5.0->en-core-web-md==3.5.0) (3.0.12)\n",
      "Requirement already satisfied: spacy-loggers<2.0.0,>=1.0.0 in /usr/local/lib/python3.10/dist-packages (from spacy<3.6.0,>=3.5.0->en-core-web-md==3.5.0) (1.0.4)\n",
      "Requirement already satisfied: murmurhash<1.1.0,>=0.28.0 in /usr/local/lib/python3.10/dist-packages (from spacy<3.6.0,>=3.5.0->en-core-web-md==3.5.0) (1.0.9)\n",
      "Requirement already satisfied: cymem<2.1.0,>=2.0.2 in /usr/local/lib/python3.10/dist-packages (from spacy<3.6.0,>=3.5.0->en-core-web-md==3.5.0) (2.0.7)\n",
      "Requirement already satisfied: preshed<3.1.0,>=3.0.2 in /usr/local/lib/python3.10/dist-packages (from spacy<3.6.0,>=3.5.0->en-core-web-md==3.5.0) (3.0.8)\n",
      "Requirement already satisfied: thinc<8.2.0,>=8.1.8 in /usr/local/lib/python3.10/dist-packages (from spacy<3.6.0,>=3.5.0->en-core-web-md==3.5.0) (8.1.10)\n",
      "Requirement already satisfied: wasabi<1.2.0,>=0.9.1 in /usr/local/lib/python3.10/dist-packages (from spacy<3.6.0,>=3.5.0->en-core-web-md==3.5.0) (1.1.2)\n",
      "Requirement already satisfied: srsly<3.0.0,>=2.4.3 in /usr/local/lib/python3.10/dist-packages (from spacy<3.6.0,>=3.5.0->en-core-web-md==3.5.0) (2.4.6)\n",
      "Requirement already satisfied: catalogue<2.1.0,>=2.0.6 in /usr/local/lib/python3.10/dist-packages (from spacy<3.6.0,>=3.5.0->en-core-web-md==3.5.0) (2.0.8)\n",
      "Requirement already satisfied: typer<0.8.0,>=0.3.0 in /usr/local/lib/python3.10/dist-packages (from spacy<3.6.0,>=3.5.0->en-core-web-md==3.5.0) (0.7.0)\n",
      "Requirement already satisfied: pathy>=0.10.0 in /usr/local/lib/python3.10/dist-packages (from spacy<3.6.0,>=3.5.0->en-core-web-md==3.5.0) (0.10.2)\n",
      "Requirement already satisfied: smart-open<7.0.0,>=5.2.1 in /usr/local/lib/python3.10/dist-packages (from spacy<3.6.0,>=3.5.0->en-core-web-md==3.5.0) (6.3.0)\n",
      "Requirement already satisfied: tqdm<5.0.0,>=4.38.0 in /usr/local/lib/python3.10/dist-packages (from spacy<3.6.0,>=3.5.0->en-core-web-md==3.5.0) (4.65.0)\n",
      "Requirement already satisfied: numpy>=1.15.0 in /usr/local/lib/python3.10/dist-packages (from spacy<3.6.0,>=3.5.0->en-core-web-md==3.5.0) (1.22.4)\n",
      "Requirement already satisfied: requests<3.0.0,>=2.13.0 in /usr/local/lib/python3.10/dist-packages (from spacy<3.6.0,>=3.5.0->en-core-web-md==3.5.0) (2.27.1)\n",
      "Requirement already satisfied: pydantic!=1.8,!=1.8.1,<1.11.0,>=1.7.4 in /usr/local/lib/python3.10/dist-packages (from spacy<3.6.0,>=3.5.0->en-core-web-md==3.5.0) (1.10.9)\n",
      "Requirement already satisfied: jinja2 in /usr/local/lib/python3.10/dist-packages (from spacy<3.6.0,>=3.5.0->en-core-web-md==3.5.0) (3.1.2)\n",
      "Requirement already satisfied: setuptools in /usr/local/lib/python3.10/dist-packages (from spacy<3.6.0,>=3.5.0->en-core-web-md==3.5.0) (67.7.2)\n",
      "Requirement already satisfied: packaging>=20.0 in /usr/local/lib/python3.10/dist-packages (from spacy<3.6.0,>=3.5.0->en-core-web-md==3.5.0) (23.1)\n",
      "Requirement already satisfied: langcodes<4.0.0,>=3.2.0 in /usr/local/lib/python3.10/dist-packages (from spacy<3.6.0,>=3.5.0->en-core-web-md==3.5.0) (3.3.0)\n",
      "Requirement already satisfied: typing-extensions>=4.2.0 in /usr/local/lib/python3.10/dist-packages (from pydantic!=1.8,!=1.8.1,<1.11.0,>=1.7.4->spacy<3.6.0,>=3.5.0->en-core-web-md==3.5.0) (4.6.3)\n",
      "Requirement already satisfied: urllib3<1.27,>=1.21.1 in /usr/local/lib/python3.10/dist-packages (from requests<3.0.0,>=2.13.0->spacy<3.6.0,>=3.5.0->en-core-web-md==3.5.0) (1.26.16)\n",
      "Requirement already satisfied: certifi>=2017.4.17 in /usr/local/lib/python3.10/dist-packages (from requests<3.0.0,>=2.13.0->spacy<3.6.0,>=3.5.0->en-core-web-md==3.5.0) (2023.5.7)\n",
      "Requirement already satisfied: charset-normalizer~=2.0.0 in /usr/local/lib/python3.10/dist-packages (from requests<3.0.0,>=2.13.0->spacy<3.6.0,>=3.5.0->en-core-web-md==3.5.0) (2.0.12)\n",
      "Requirement already satisfied: idna<4,>=2.5 in /usr/local/lib/python3.10/dist-packages (from requests<3.0.0,>=2.13.0->spacy<3.6.0,>=3.5.0->en-core-web-md==3.5.0) (3.4)\n",
      "Requirement already satisfied: blis<0.8.0,>=0.7.8 in /usr/local/lib/python3.10/dist-packages (from thinc<8.2.0,>=8.1.8->spacy<3.6.0,>=3.5.0->en-core-web-md==3.5.0) (0.7.9)\n",
      "Requirement already satisfied: confection<1.0.0,>=0.0.1 in /usr/local/lib/python3.10/dist-packages (from thinc<8.2.0,>=8.1.8->spacy<3.6.0,>=3.5.0->en-core-web-md==3.5.0) (0.0.4)\n",
      "Requirement already satisfied: click<9.0.0,>=7.1.1 in /usr/local/lib/python3.10/dist-packages (from typer<0.8.0,>=0.3.0->spacy<3.6.0,>=3.5.0->en-core-web-md==3.5.0) (8.1.3)\n",
      "Requirement already satisfied: MarkupSafe>=2.0 in /usr/local/lib/python3.10/dist-packages (from jinja2->spacy<3.6.0,>=3.5.0->en-core-web-md==3.5.0) (2.1.3)\n",
      "Installing collected packages: en-core-web-md\n",
      "Successfully installed en-core-web-md-3.5.0\n",
      "\u001b[38;5;2m✔ Download and installation successful\u001b[0m\n",
      "You can now load the package via spacy.load('en_core_web_md')\n"
     ]
    }
   ],
   "source": [
    "!python -m spacy download en_core_web_md"
   ]
  },
  {
   "cell_type": "code",
   "execution_count": null,
   "metadata": {
    "id": "uQOJ0e_IVmQJ"
   },
   "outputs": [],
   "source": [
    "# Load the pretrained word embeddings model:\n",
    "glove_model = spacy.load('en_core_web_md')"
   ]
  },
  {
   "cell_type": "code",
   "execution_count": null,
   "metadata": {
    "colab": {
     "base_uri": "https://localhost:8080/"
    },
    "id": "DlydauBnTeWR",
    "outputId": "c63e7e3b-3ca3-4906-e196-6c0e4431be6b"
   },
   "outputs": [
    {
     "data": {
      "text/plain": [
       "array([ 9.2476e-01,  4.0317e+00, -1.1116e+00, -1.1494e+00, -2.4306e-01,\n",
       "        2.7112e-02, -8.2130e-01, -8.7334e-01, -3.6751e-01,  1.9488e+00,\n",
       "        9.9949e-03,  9.1076e-01, -2.8553e+00,  3.3324e+00,  8.0689e-01,\n",
       "        3.0608e+00,  3.2217e+00, -1.1800e+00,  3.2805e-01, -3.5090e-02,\n",
       "        6.0106e-01,  9.4476e-01, -2.5254e+00, -2.4672e+00,  4.3129e-01,\n",
       "       -1.8120e-01, -3.3816e-01, -5.1415e+00, -1.0489e+00,  6.7023e-01,\n",
       "        4.6077e-01, -1.1942e-02,  7.6441e-01,  5.0620e-01,  2.9048e+00,\n",
       "        1.8379e+00, -4.7112e-01,  1.6463e+00, -9.9110e-01, -3.8910e+00,\n",
       "        2.7076e-01,  3.1497e-01,  2.8471e+00,  3.3080e+00,  1.4569e+00,\n",
       "       -1.9071e+00, -4.7599e-01, -2.8915e-01,  5.1421e-01,  1.1085e+00,\n",
       "        2.7670e+00, -1.5939e+00,  1.5288e+00, -8.9455e-01,  2.1994e+00,\n",
       "       -1.2045e+00,  2.1558e+00,  2.1011e+00,  3.7978e+00,  2.2727e+00,\n",
       "       -2.0156e+00, -1.0491e+00, -2.8735e+00, -2.1012e+00,  3.8546e-01,\n",
       "        9.2278e-01, -4.3092e+00, -2.0686e+00, -1.0545e-01,  2.7856e+00,\n",
       "       -2.7609e+00,  5.9199e-01,  4.7847e-03, -1.5475e-01,  1.5688e+00,\n",
       "        2.0859e-02, -1.5494e+00, -1.4121e+00,  1.3633e+00,  2.4712e+00,\n",
       "       -1.1118e+00,  1.0773e+00,  9.6852e-01,  5.1115e-01, -2.6101e+00,\n",
       "       -3.7376e+00,  4.2418e+00, -2.1323e+00,  1.6267e-01,  9.1818e-01,\n",
       "       -2.8733e+00, -3.6765e-01, -3.9381e-01, -3.0064e+00, -1.1061e+00,\n",
       "        6.8642e-01, -2.1214e+00,  1.9356e+00,  5.9412e-01,  5.7495e-01,\n",
       "        1.8014e+00,  1.1200e+00,  2.6260e+00,  1.9841e+00, -3.1486e+00,\n",
       "        1.9191e+00, -1.7728e+00, -3.0089e-01, -1.2070e-01,  1.6590e+00,\n",
       "       -1.4089e+00, -8.1403e-01,  1.1821e+00,  7.7884e-01, -1.1950e+00,\n",
       "        1.0693e+00, -8.6458e-01, -3.3271e+00,  4.1073e+00,  5.6404e-01,\n",
       "       -1.1668e+00, -1.4518e+00, -1.4228e+00,  2.3230e+00,  5.5476e-01,\n",
       "        2.0067e+00, -1.6173e-01, -1.3061e+00,  2.5795e+00, -1.2057e+00,\n",
       "       -2.0917e-01, -3.1542e-02,  1.5157e+00,  3.2190e-01,  1.7834e-01,\n",
       "       -1.4100e+00,  4.5339e-01, -2.3115e-01,  8.6113e-01,  4.9311e+00,\n",
       "        5.5376e-01, -5.2085e+00,  1.4732e+00, -2.9345e+00, -1.4839e+00,\n",
       "        3.9266e+00,  9.7033e-01,  4.2578e-01, -2.8410e+00,  2.5846e+00,\n",
       "        2.2278e-01, -2.9761e+00,  7.4760e-01,  1.1687e+00,  3.2097e+00,\n",
       "       -2.2574e+00,  1.2681e+00,  1.2013e+00, -7.5360e-03,  8.6243e-02,\n",
       "        2.5948e-01, -2.3586e+00,  3.1462e+00,  4.5312e-02, -3.7290e+00,\n",
       "       -1.5642e+00, -1.5929e+00,  1.3543e+00,  1.3885e+00, -4.1330e-01,\n",
       "        8.1453e-01, -9.2499e-01, -1.2408e+00,  2.1150e-01,  1.5547e+00,\n",
       "        2.9114e-01, -1.9599e+00, -9.7015e-02,  6.6529e-01,  4.6470e-01,\n",
       "       -2.3938e+00,  3.3237e+00,  2.1398e+00, -2.5878e+00, -1.2207e+00,\n",
       "        1.4647e+00, -3.4753e-01, -1.0380e+00, -1.0308e+00, -3.5077e+00,\n",
       "       -3.3517e-01,  8.7340e-01,  1.7718e+00, -1.6593e+00,  2.1057e+00,\n",
       "       -1.2588e+00, -1.7777e+00,  7.3703e-01, -8.6048e-01,  4.0549e-02,\n",
       "       -1.2723e+00, -1.0374e+00,  1.4901e+00,  1.8595e+00, -2.5796e+00,\n",
       "        8.2889e-01, -1.5147e+00,  2.3879e+00,  2.3209e-01, -1.7744e+00,\n",
       "        1.3155e+00,  1.4291e+00, -5.8960e-01, -7.4854e-01, -1.3983e+00,\n",
       "       -3.8630e+00,  2.4547e+00, -3.9470e+00, -3.3542e+00,  7.1558e-01,\n",
       "       -1.6626e+00,  4.0413e-01, -1.7451e+00,  1.5809e-01, -5.1992e-01,\n",
       "       -2.6738e+00, -2.9044e-01,  2.6875e+00,  8.0624e-01,  8.2140e-02,\n",
       "        2.4704e-01,  1.0654e+00, -9.0418e-01, -2.8785e-01, -1.6640e+00,\n",
       "       -5.8313e-01, -3.2580e+00,  3.2238e+00,  7.0624e-01,  3.2998e+00,\n",
       "       -3.4186e-01, -2.7616e+00,  2.3484e+00,  1.0891e+00,  7.6221e-01,\n",
       "       -2.5002e-01, -9.3426e-01,  1.5755e+00,  6.0445e-01, -2.5616e-01,\n",
       "       -6.4535e-01,  1.5938e+00, -1.8056e+00, -6.8772e-01, -5.9310e-01,\n",
       "        9.8651e-01, -3.5154e-01, -2.0095e+00,  4.3294e+00, -8.4944e-01,\n",
       "       -2.2507e+00,  3.6942e+00, -2.9606e+00,  7.7772e-01,  2.2747e+00,\n",
       "       -3.3387e+00, -3.2014e+00, -9.7642e-01, -6.4268e-01,  2.7003e+00,\n",
       "       -1.6356e+00, -6.5585e+00, -6.6552e-01, -2.6096e-01,  2.8156e-01,\n",
       "       -2.9398e+00,  1.6465e-01,  1.3808e+00,  2.4257e+00, -1.7346e-01,\n",
       "        1.9999e+00,  1.9641e+00,  2.0815e+00, -1.2323e+00,  1.6536e+00,\n",
       "       -1.2655e+00, -2.8049e-01,  1.1426e+00, -2.4750e+00,  1.3132e+00,\n",
       "       -1.3260e+00, -1.9443e+00,  1.1098e+00,  2.5899e+00, -3.9172e-01,\n",
       "       -5.6650e-01, -6.3226e-01, -8.7412e-01,  8.6459e-01,  9.6014e-01],\n",
       "      dtype=float32)"
      ]
     },
     "execution_count": 7,
     "metadata": {},
     "output_type": "execute_result"
    }
   ],
   "source": [
    "# Get a word embedding for a single word:\n",
    "glove_model.vocab[\"scooter\"].vector"
   ]
  },
  {
   "cell_type": "code",
   "execution_count": null,
   "metadata": {
    "colab": {
     "base_uri": "https://localhost:8080/"
    },
    "id": "35WJDipgT0_B",
    "outputId": "691a8169-8311-4bca-84ef-05a48de6abed"
   },
   "outputs": [
    {
     "data": {
      "text/plain": [
       "0.6314929554878237"
      ]
     },
     "execution_count": 8,
     "metadata": {},
     "output_type": "execute_result"
    }
   ],
   "source": [
    "# Calculate similarity between 2 words, based on their embeddings:\n",
    "glove_model(\"scooter\").similarity(glove_model(\"car\"))"
   ]
  },
  {
   "cell_type": "code",
   "execution_count": null,
   "metadata": {
    "colab": {
     "base_uri": "https://localhost:8080/"
    },
    "id": "PiOHq-zNTiUJ",
    "outputId": "d4b25833-d13b-40e7-a13f-993490591718"
   },
   "outputs": [
    {
     "data": {
      "text/plain": [
       "array([-3.1806657 ,  1.664599  , -4.3798003 ,  0.15328343,  1.1197567 ,\n",
       "       -1.8308481 , -0.85867167,  3.7566268 ,  0.4566783 ,  3.8141835 ,\n",
       "        6.438646  ,  2.40976   , -1.0542067 , -0.4203999 ,  2.1477087 ,\n",
       "        0.99768335,  2.1276665 , -1.9846166 , -0.40853667, -0.43034005,\n",
       "        2.2002618 ,  0.6777099 , -0.1641417 , -4.4967666 , -0.7998267 ,\n",
       "       -2.3934166 , -2.55516   , -4.3151    ,  1.1406001 , -0.1146249 ,\n",
       "       -1.3000315 , -2.4695902 , -0.08870824, -1.4726334 ,  0.56853324,\n",
       "       -1.040365  , -0.17323   , -0.33375502,  3.5047834 , -2.5173352 ,\n",
       "        0.35030997,  0.86651665,  2.5775282 , -0.8417599 ,  1.0614249 ,\n",
       "        1.3163999 , -3.8498318 , -1.5407834 , -2.4002702 ,  0.7410167 ,\n",
       "        0.800795  ,  0.45590165, -0.96218497, -1.2312583 ,  0.4113501 ,\n",
       "       -1.0232166 ,  2.1276667 , -0.13209994,  0.9239829 ,  1.5165    ,\n",
       "        1.3218199 , -2.52304   , -0.01076335, -0.42317343, -3.836523  ,\n",
       "       -1.3294716 , -2.4200652 , -4.378733  ,  1.151985  ,  3.817365  ,\n",
       "        0.96215963,  0.5888384 ,  0.06621238,  0.84039164,  4.7341332 ,\n",
       "        0.6169433 , -2.2648115 ,  0.6667318 , -1.4170681 , -3.2301579 ,\n",
       "       -3.3703415 , -1.9974617 ,  2.67885   ,  0.22769463,  2.5138867 ,\n",
       "       -2.1572917 ,  1.592926  , -1.30446   ,  0.6865149 , -1.4424667 ,\n",
       "       -2.1296737 , -2.1340432 ,  3.5862005 , -4.5147567 ,  0.6587617 ,\n",
       "       -1.4200335 ,  0.08084329, -0.8938933 ,  2.5278566 , -0.595805  ,\n",
       "        0.65903324,  2.2064667 ,  3.0308163 ,  3.7265434 , -1.5192233 ,\n",
       "        2.6877    , -0.34924003,  0.12550502, -3.9201348 , -0.03581333,\n",
       "       -3.8392832 ,  0.19354296,  1.1633617 ,  2.2477    ,  0.2808267 ,\n",
       "        0.02269506,  1.1399866 , -2.0921032 ,  3.8343232 , -0.29006   ,\n",
       "       -0.86370164, -3.1241932 , -2.6148367 ,  5.03922   , -1.2811966 ,\n",
       "       -2.70655   , -0.5944216 , -1.9367167 ,  3.8822749 , -0.8727932 ,\n",
       "       -1.5614218 ,  0.47990966,  3.064785  , -3.9227717 ,  0.5628533 ,\n",
       "        0.46021998, -1.196885  , -3.9072583 ,  4.5459514 , -0.79273343,\n",
       "       -2.6739483 ,  0.23706667,  0.50167006,  1.9019166 , -5.553778  ,\n",
       "        1.6127001 ,  0.36114323, -0.64515996,  0.23945002,  0.0557334 ,\n",
       "       -1.3918533 ,  1.7250881 , -1.6362561 ,  1.0325166 ,  0.907495  ,\n",
       "        0.80291843,  4.7996573 ,  1.2224467 , -1.134488  ,  2.1292255 ,\n",
       "       -2.5529084 , -4.91165   ,  0.3986831 ,  2.1576188 , -1.8421434 ,\n",
       "       -0.03454828, -3.5029418 ,  3.4950478 , -1.2964066 ,  3.1740751 ,\n",
       "        2.9194214 ,  0.29290998,  0.93318486,  0.64226675,  1.5319668 ,\n",
       "       -2.368795  , -2.0478184 , -3.1056693 , -2.036785  , -1.4615034 ,\n",
       "       -2.72835   ,  0.677155  ,  0.42790166, -2.8809433 , -2.3746016 ,\n",
       "        0.78971505, -1.0467983 , -1.420142  , -0.21829665,  0.05828337,\n",
       "       -0.26336834,  2.0174718 , -1.9955331 , -0.54288334,  1.3872533 ,\n",
       "       -0.38074994, -3.354825  , -0.7862634 , -2.493775  ,  2.6745749 ,\n",
       "       -0.973805  , -2.4428735 , -1.91608   , -3.1023834 , -2.51848   ,\n",
       "        1.19285   ,  1.5999836 ,  0.46752664, -2.6840684 , -0.8963833 ,\n",
       "        3.0353882 ,  1.0191699 ,  0.11533336,  1.6408266 , -0.20684999,\n",
       "        0.9979501 , -0.5041666 ,  0.0112834 , -3.3142335 ,  0.27234867,\n",
       "       -3.1893165 , -0.34957698, -1.135305  ,  2.9689484 ,  1.4100984 ,\n",
       "       -4.01255   , -0.774405  ,  2.3439    ,  2.4798334 , -0.11199999,\n",
       "       -0.45212674, -4.7658353 ,  1.4756967 ,  1.6846766 , -2.66      ,\n",
       "        0.46529666, -5.2268386 ,  3.9147618 ,  0.10835484, -1.1800267 ,\n",
       "       -1.440022  , -0.20997612,  2.55603   ,  1.540305  , -0.6637935 ,\n",
       "       -0.77447015, -1.9085766 ,  0.30502662,  1.2658086 , -0.4455833 ,\n",
       "       -0.8560682 ,  3.3528817 , -4.8722167 ,  0.2547133 , -2.7481594 ,\n",
       "       -0.51260495,  1.8205932 ,  2.78565   ,  0.01212172,  1.0239917 ,\n",
       "        2.9566002 ,  2.8994234 ,  1.9538368 ,  4.8098283 ,  0.5599466 ,\n",
       "       -2.0152385 , -1.8263    , -1.9466151 , -4.1338964 ,  2.9721735 ,\n",
       "        2.6276832 , -0.73814994, -3.1521368 , -1.6089765 , -1.8046651 ,\n",
       "       -0.5440499 ,  1.1383117 , -0.39093336,  1.43459   ,  1.0138482 ,\n",
       "       -2.8720615 , -0.40865004,  0.06233335,  0.89465666,  5.8157597 ,\n",
       "       -1.8421332 , -0.7538534 , -2.0906968 , -3.8017833 ,  3.1576102 ,\n",
       "       -1.9633001 ,  1.9874334 ,  2.0089567 , -0.4614333 , -0.59184664,\n",
       "        3.1534135 ,  2.360707  ,  2.1090367 , -3.366617  ,  0.37480664],\n",
       "      dtype=float32)"
      ]
     },
     "execution_count": 12,
     "metadata": {},
     "output_type": "execute_result"
    }
   ],
   "source": [
    "# Get word embedding for a sentence:\n",
    "sentence_emb = glove_model(\"I rode a red scooter.\")\n",
    "\n",
    "# Get averaged vector for the entire sentence:\n",
    "sentence_emb.vector"
   ]
  },
  {
   "cell_type": "code",
   "execution_count": null,
   "metadata": {
    "colab": {
     "base_uri": "https://localhost:8080/"
    },
    "id": "MWmPXbPwUvf3",
    "outputId": "b17244dc-05b4-4991-c2e3-582e292cfc77"
   },
   "outputs": [
    {
     "data": {
      "text/plain": [
       "[('I', 'PRON'),\n",
       " ('rode', 'VERB'),\n",
       " ('a', 'DET'),\n",
       " ('red', 'ADJ'),\n",
       " ('scooter', 'NOUN'),\n",
       " ('.', 'PUNCT')]"
      ]
     },
     "execution_count": 15,
     "metadata": {},
     "output_type": "execute_result"
    }
   ],
   "source": [
    "# Get a vector for each word in the sentence:\n",
    "# [w.vector for w in sentence_emb]\n",
    "\n",
    "# Get POS for each word:\n",
    "[(w.text, w.pos_) for w in sentence_emb]"
   ]
  },
  {
   "cell_type": "code",
   "execution_count": null,
   "metadata": {
    "colab": {
     "base_uri": "https://localhost:8080/"
    },
    "id": "nhkpmNH0WYDm",
    "outputId": "904ccd19-34c7-410a-ac99-0cdca9c1b335"
   },
   "outputs": [
    {
     "data": {
      "text/plain": [
       "array([0., 0., 0., 0., 0., 0., 0., 0., 0., 0., 0., 0., 0., 0., 0., 0., 0.,\n",
       "       0., 0., 0., 0., 0., 0., 0., 0., 0., 0., 0., 0., 0., 0., 0., 0., 0.,\n",
       "       0., 0., 0., 0., 0., 0., 0., 0., 0., 0., 0., 0., 0., 0., 0., 0., 0.,\n",
       "       0., 0., 0., 0., 0., 0., 0., 0., 0., 0., 0., 0., 0., 0., 0., 0., 0.,\n",
       "       0., 0., 0., 0., 0., 0., 0., 0., 0., 0., 0., 0., 0., 0., 0., 0., 0.,\n",
       "       0., 0., 0., 0., 0., 0., 0., 0., 0., 0., 0., 0., 0., 0., 0., 0., 0.,\n",
       "       0., 0., 0., 0., 0., 0., 0., 0., 0., 0., 0., 0., 0., 0., 0., 0., 0.,\n",
       "       0., 0., 0., 0., 0., 0., 0., 0., 0., 0., 0., 0., 0., 0., 0., 0., 0.,\n",
       "       0., 0., 0., 0., 0., 0., 0., 0., 0., 0., 0., 0., 0., 0., 0., 0., 0.,\n",
       "       0., 0., 0., 0., 0., 0., 0., 0., 0., 0., 0., 0., 0., 0., 0., 0., 0.,\n",
       "       0., 0., 0., 0., 0., 0., 0., 0., 0., 0., 0., 0., 0., 0., 0., 0., 0.,\n",
       "       0., 0., 0., 0., 0., 0., 0., 0., 0., 0., 0., 0., 0., 0., 0., 0., 0.,\n",
       "       0., 0., 0., 0., 0., 0., 0., 0., 0., 0., 0., 0., 0., 0., 0., 0., 0.,\n",
       "       0., 0., 0., 0., 0., 0., 0., 0., 0., 0., 0., 0., 0., 0., 0., 0., 0.,\n",
       "       0., 0., 0., 0., 0., 0., 0., 0., 0., 0., 0., 0., 0., 0., 0., 0., 0.,\n",
       "       0., 0., 0., 0., 0., 0., 0., 0., 0., 0., 0., 0., 0., 0., 0., 0., 0.,\n",
       "       0., 0., 0., 0., 0., 0., 0., 0., 0., 0., 0., 0., 0., 0., 0., 0., 0.,\n",
       "       0., 0., 0., 0., 0., 0., 0., 0., 0., 0., 0.], dtype=float32)"
      ]
     },
     "execution_count": 17,
     "metadata": {},
     "output_type": "execute_result"
    }
   ],
   "source": [
    "# Get word embedding for a word that is not in the vocabulary:\n",
    "glove_model(\"newnonexistingword\").vector"
   ]
  }
 ],
 "metadata": {
  "colab": {
   "provenance": []
  },
  "kernelspec": {
   "display_name": "Python 3 (ipykernel)",
   "language": "python",
   "name": "python3"
  },
  "language_info": {
   "codemirror_mode": {
    "name": "ipython",
    "version": 3
   },
   "file_extension": ".py",
   "mimetype": "text/x-python",
   "name": "python",
   "nbconvert_exporter": "python",
   "pygments_lexer": "ipython3",
   "version": "3.10.12"
  }
 },
 "nbformat": 4,
 "nbformat_minor": 1
}
